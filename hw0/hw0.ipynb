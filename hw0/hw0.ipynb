{
 "cells": [
  {
   "cell_type": "code",
   "execution_count": null,
   "metadata": {},
   "outputs": [],
   "source": [
    "#Task 1\n",
    "#(base) jerry@yangcheyundeMBP ~ % conda info\n",
    "#\n",
    "#     active environment : base\n",
    "#    active env location : /opt/anaconda3\n",
    "#            shell level : 1\n",
    "#       user config file : /Users/jerry/.condarc\n",
    "# populated config files : /opt/anaconda3/.condarc\n",
    "#                          /Users/jerry/.condarc\n",
    "#          conda version : 24.11.3\n",
    "#    conda-build version : 24.9.0\n",
    "#         python version : 3.12.7.final.0\n",
    "#                 solver : libmamba (default)\n",
    "#       virtual packages : __archspec=1=m1\n",
    "#                          __conda=24.11.3=0\n",
    "#                          __osx=13.7.6=0\n",
    "#                          __unix=0=0\n",
    "#       base environment : /opt/anaconda3  (writable)\n",
    "#      conda av data dir : /opt/anaconda3/etc/conda\n",
    "#  conda av metadata url : None\n",
    "#           channel URLs : https://repo.anaconda.com/pkgs/main/osx-arm64\n",
    "#                          https://repo.anaconda.com/pkgs/main/noarch\n",
    "#                          https://repo.anaconda.com/pkgs/r/osx-arm64\n",
    "#                          https://repo.anaconda.com/pkgs/r/noarch\n",
    "#          package cache : /opt/anaconda3/pkgs\n",
    "#                          /Users/jerry/.conda/pkgs\n",
    "#       envs directories : /opt/anaconda3/envs\n",
    "#                          /Users/jerry/.conda/envs\n",
    "#               platform : osx-arm64\n",
    "#             user-agent : conda/24.11.3 requests/2.32.3 CPython/3.12.7 Darwin/22.6.0 OSX/13.7.6 solver/libmamba conda-libmamba-solver/24.9.0 libmambapy/1.5.8 aau/0.4.4 c/Vp76w6XhSsf-jSKXMO0KKw s/GZmAWvW_nsynV5_qauRSIQ e/PgS01D-o4Amx4j38-kYCqw\n",
    "#                UID:GID : 501:20\n",
    "#             netrc file : None\n",
    "#           offline mode : False\n",
    "\n",
    "\n"
   ]
  },
  {
   "cell_type": "code",
   "execution_count": 27,
   "metadata": {},
   "outputs": [
    {
     "name": "stdout",
     "output_type": "stream",
     "text": [
      "2 2\n",
      "6 6\n",
      "(2, 3) (2, 3)\n",
      "3\n",
      "[[1. 2. 3.]\n",
      " [4. 5. 6.]]\n",
      "[[0 1]\n",
      " [2 3]]\n"
     ]
    }
   ],
   "source": [
    "import numpy as np\n",
    "\n",
    "a = np.array([[1, 2, 3], [4, 5, 6]])\n",
    "\n",
    "print(np.ndim(a), a.ndim)     # Number of dimensions → 2\n",
    "print(np.size(a), a.size)     # Total number of elements → 6\n",
    "print(np.shape(a), a.shape)   # Shape of array → (2, 3)\n",
    "print(a.shape[-1])            # Last dimension size → 3\n",
    "\n",
    "a = np.array([[1., 2., 3.], [4., 5., 6.]])  \n",
    "print(a)\n",
    "\n",
    "a = np.array([0])\n",
    "b, c, d = np.array([[1]]), np.array([[2]]), np.array([[3]])\n",
    "print(np.block([[a, b], [c, d]]))  # Block matrix combination\n",
    "\n"
   ]
  },
  {
   "cell_type": "code",
   "execution_count": 47,
   "metadata": {},
   "outputs": [
    {
     "name": "stdout",
     "output_type": "stream",
     "text": [
      "[15 16 17 18 19]\n",
      "9\n",
      "[5 6 7 8 9] [5 6 7 8 9]\n",
      "[[ 0  1  2  3  4]\n",
      " [ 5  6  7  8  9]\n",
      " [10 11 12 13 14]\n",
      " [15 16 17 18 19]] [[ 0  1  2  3  4]\n",
      " [ 5  6  7  8  9]\n",
      " [10 11 12 13 14]\n",
      " [15 16 17 18 19]]\n",
      "[[10 11 12 13 14]\n",
      " [15 16 17 18 19]]\n",
      "[[ 1  2  3]\n",
      " [ 6  7  8]\n",
      " [11 12 13]]\n",
      "[[ 5  7]\n",
      " [15 17]]\n",
      "[[10 11 12 13 14]]\n",
      "[[ 0  1  2  3  4]\n",
      " [10 11 12 13 14]]\n",
      "[[15 16 17 18 19]\n",
      " [10 11 12 13 14]\n",
      " [ 5  6  7  8  9]\n",
      " [ 0  1  2  3  4]]\n",
      "[[ 0  1  2  3  4]\n",
      " [ 5  6  7  8  9]\n",
      " [10 11 12 13 14]\n",
      " [15 16 17 18 19]\n",
      " [ 0  1  2  3  4]]\n",
      "[[ 0  5 10 15]\n",
      " [ 1  6 11 16]\n",
      " [ 2  7 12 17]\n",
      " [ 3  8 13 18]\n",
      " [ 4  9 14 19]]\n",
      "[[ 0  5 10 15]\n",
      " [ 1  6 11 16]\n",
      " [ 2  7 12 17]\n",
      " [ 3  8 13 18]\n",
      " [ 4  9 14 19]]\n"
     ]
    }
   ],
   "source": [
    "a = np.arange(20).reshape(4, 5)\n",
    "\n",
    "print(a[-1])          # Last row\n",
    "print(a[1, 4])        # Row 1, Col 4\n",
    "print(a[1], a[1, :])  # Entire row 1\n",
    "print(a[0:5], a[:5])  # First 5 rows\n",
    "print(a[-2:])         # Last 2 rows\n",
    "print(a[0:3, 1:4])    # Rows 0–2, Cols 1–3\n",
    "\n",
    "print(a[np.ix_([1, 3], [0, 2])])  # Select rows 1 & 3, cols 0 & 2\n",
    "print(a[2:21:2, :])               # Every 2nd row from 2–20\n",
    "print(a[::2, :])                  # Every 2nd row\n",
    "print(a[::-1, :])                 # Reverse rows\n",
    "print(a[np.r_[:len(a), 0]])       # Row stacking\n",
    "\n",
    "print(a.T)               # Transpose\n",
    "print(a.transpose())     \n",
    "\n"
   ]
  },
  {
   "cell_type": "code",
   "execution_count": 48,
   "metadata": {},
   "outputs": [
    {
     "name": "stdout",
     "output_type": "stream",
     "text": [
      "[1.-2.j 3.-4.j]\n",
      "[[ 40  70]\n",
      " [115 220]\n",
      " [190 370]\n",
      " [265 520]]\n"
     ]
    }
   ],
   "source": [
    "c = np.array([1+2j, 3+4j])\n",
    "print(c.conj().T)        # Conjugate transpose\n",
    "\n",
    "b = np.array([[1, 2, 3,4,5], [4, 5, 6,7,8]])\n",
    "\n",
    "b.shape\n",
    "print(a @ b.T)   # Matrix multiplication\n",
    "\n"
   ]
  },
  {
   "cell_type": "code",
   "execution_count": 50,
   "metadata": {},
   "outputs": [
    {
     "name": "stdout",
     "output_type": "stream",
     "text": [
      "[ 4 10 18]\n",
      "[0.25 0.4  0.5 ]\n",
      "[1 4 9]\n",
      "[False False False]\n",
      "(array([], dtype=int64),)\n",
      "b > 2: [False  True False  True]\n",
      "Indices: [1 3]\n",
      "[[ 20  40]\n",
      " [ 60  80]\n",
      " [100 120]]\n",
      "[[ 10  20  30  40]\n",
      " [ 50  60  70  80]\n",
      " [ 90 100 110 120]]\n",
      "[[ 0  1  2  3]\n",
      " [ 4  5  6  7]\n",
      " [ 8  9 10 11]] [4 5 6 7] [ 0  1  2  3  4  5  6  7  8  9 10 11]\n",
      "[ 1.  2.  3.  4.  5.  6.  7.  8.  9. 10.]\n",
      "[ 1.  2.  3.  4.  5.  6.  7.  8.  9. 10.]\n",
      "[[0. 0. 0. 0.]\n",
      " [0. 0. 0. 0.]\n",
      " [0. 0. 0. 0.]]\n",
      "[[1. 1. 1. 1.]\n",
      " [1. 1. 1. 1.]\n",
      " [1. 1. 1. 1.]]\n",
      "[[1. 0. 0.]\n",
      " [0. 1. 0.]\n",
      " [0. 0. 1.]]\n",
      "[[1 0 0]\n",
      " [0 2 0]\n",
      " [0 0 3]]\n"
     ]
    }
   ],
   "source": [
    "a = np.array([1,2,3])\n",
    "b= np.array([4,5,6])\n",
    "\n",
    "print(a * b)     # Element-wise multiplication\n",
    "print(a / b)     # Element-wise division\n",
    "print(a ** 2)    # Power\n",
    "print(a > 5)     # Boolean mask\n",
    "\n",
    "print(np.nonzero(a > 5))             # Indices where condition holds\n",
    "\n",
    "\n",
    "a = np.array([[10, 20, 30, 40],\n",
    "              [50, 60, 70, 80],\n",
    "              [90, 100, 110, 120]])\n",
    "\n",
    "# Vector `b` (column filter)\n",
    "b = np.array([1, 3, 2, 5])\n",
    "\n",
    "# Columns where b > 2\n",
    "print(\"b > 2:\", b > 2)  # [False  True False  True]\n",
    "print(\"Indices:\", np.nonzero(b > 2)[0])  # [1 3]\n",
    "print(a[:, np.nonzero(b > 2)[0]])    # Select cols where b > 2\n",
    "a[a < 10] = 0                        # Set values <10 to 0\n",
    "print(a)\n",
    "\n",
    "x = np.arange(12).reshape(3, 4)\n",
    "\n",
    "y = x.copy()\n",
    "y2 = x[1, :].copy()\n",
    "y3 = x.flatten()\n",
    "\n",
    "print(y, y2, y3)\n",
    "\n",
    "\n",
    "print(np.arange(1., 11.))          # [1. 2. ... 10.]\n",
    "print(np.linspace(1., 10., 10))    # 10 points between 1 and 10\n",
    "\n",
    "print(np.zeros((3, 4)))            # 3x4 zeros\n",
    "print(np.ones((3, 4)))             # 3x4 ones\n",
    "print(np.eye(3))                   # 3x3 identity\n",
    "print(np.diag([1, 2, 3]))          # Diagonal from list\n"
   ]
  },
  {
   "cell_type": "code",
   "execution_count": 55,
   "metadata": {},
   "outputs": [
    {
     "name": "stdout",
     "output_type": "stream",
     "text": [
      "[[0.77395605 0.43887844 0.85859792 0.69736803]\n",
      " [0.09417735 0.97562235 0.7611397  0.78606431]\n",
      " [0.12811363 0.45038594 0.37079802 0.92676499]]\n",
      "[1.         1.66666667 2.33333333 3.        ]\n",
      "(9, 6) (9, 6)\n",
      "[[0 1 2]\n",
      " [0 1 2]] [[0 0 0]\n",
      " [1 1 1]]\n",
      "(9, 1) (1, 6)\n",
      "(array([[1],\n",
      "       [2],\n",
      "       [4]]), array([[2, 4, 5]]))\n",
      "[[1 2 1 2 1 2]\n",
      " [3 4 3 4 3 4]\n",
      " [1 2 1 2 1 2]\n",
      " [3 4 3 4 3 4]]\n",
      "[[1 2 5 6]\n",
      " [3 4 7 8]]\n",
      "[[1 2 5 6]\n",
      " [3 4 7 8]]\n",
      "[[1 2 5 6]\n",
      " [3 4 7 8]]\n",
      "[[1 2]\n",
      " [3 4]\n",
      " [5 6]\n",
      " [7 8]]\n",
      "nan\n",
      "3.0\n",
      "[ 3. nan]\n",
      "[ 2. nan]\n",
      "[[ 1.  5.]\n",
      " [ 4. nan]]\n",
      "5.0\n",
      "5.0\n"
     ]
    }
   ],
   "source": [
    "from numpy.random import default_rng\n",
    "rng = default_rng(42)\n",
    "print(rng.random((3, 4)))   # 3x4 random matrix\n",
    "\n",
    "\n",
    "print(np.linspace(1, 3, 4))  # 4 evenly spaced numbers from 1 → 3\n",
    "\n",
    "\n",
    "x, y = np.mgrid[0:9., 0:6.]\n",
    "print(x.shape, y.shape)\n",
    "\n",
    "X, Y = np.meshgrid(np.arange(3), np.arange(2))\n",
    "print(X, Y)\n",
    "\n",
    "# Using ogrid\n",
    "ox, oy = np.ogrid[0:9., 0:6.]\n",
    "print(ox.shape, oy.shape)\n",
    "\n",
    "print(np.ix_([1, 2, 4], [2, 4, 5]))  # Build index arrays\n",
    "\n",
    "a = np.array([[1, 2], [3, 4]])\n",
    "print(np.tile(a, (2, 3)))  # Repeat array\n",
    "\n",
    "\n",
    "a = np.array([[1, 2], [3, 4]])\n",
    "b = np.array([[5, 6], [7, 8]])\n",
    "\n",
    "print(np.concatenate((a, b), axis=1))   # Column-wise concat\n",
    "print(np.hstack((a, b)))                # Horizontal stack\n",
    "print(np.column_stack((a, b)))          # Same as hstack\n",
    "print(np.vstack((a, b)))                # Vertical stack\n",
    "\n",
    "a = np.array([[1, 2], [3, np.nan]])\n",
    "\n"
   ]
  },
  {
   "cell_type": "code",
   "execution_count": null,
   "metadata": {},
   "outputs": [
    {
     "name": "stdout",
     "output_type": "stream",
     "text": [
      "3\n",
      "3\n",
      "[2 3 3]\n",
      "[2 3]\n"
     ]
    },
    {
     "ename": "ValueError",
     "evalue": "operands could not be broadcast together with shapes (2,3) (2,2) ",
     "output_type": "error",
     "traceback": [
      "\u001b[0;31m---------------------------------------------------------------------------\u001b[0m",
      "\u001b[0;31mValueError\u001b[0m                                Traceback (most recent call last)",
      "Cell \u001b[0;32mIn[62], line 7\u001b[0m\n\u001b[1;32m      4\u001b[0m \u001b[38;5;28mprint\u001b[39m(a\u001b[38;5;241m.\u001b[39mmax(\u001b[38;5;241m1\u001b[39m))         \u001b[38;5;66;03m# Row-wise max\u001b[39;00m\n\u001b[1;32m      6\u001b[0m b \u001b[38;5;241m=\u001b[39m np\u001b[38;5;241m.\u001b[39marray([[\u001b[38;5;241m0\u001b[39m, \u001b[38;5;241m5\u001b[39m], [\u001b[38;5;241m4\u001b[39m, \u001b[38;5;241m2\u001b[39m]])\n\u001b[0;32m----> 7\u001b[0m \u001b[38;5;28mprint\u001b[39m(np\u001b[38;5;241m.\u001b[39mmaximum(a, b))  \u001b[38;5;66;03m# Element-wise max\u001b[39;00m\n\u001b[1;32m     10\u001b[0m v \u001b[38;5;241m=\u001b[39m np\u001b[38;5;241m.\u001b[39marray([\u001b[38;5;241m3\u001b[39m, \u001b[38;5;241m4\u001b[39m])\n\u001b[1;32m     11\u001b[0m \u001b[38;5;28mprint\u001b[39m(np\u001b[38;5;241m.\u001b[39msqrt(v \u001b[38;5;241m@\u001b[39m v))         \u001b[38;5;66;03m# 5\u001b[39;00m\n",
      "\u001b[0;31mValueError\u001b[0m: operands could not be broadcast together with shapes (2,3) (2,2) "
     ]
    }
   ],
   "source": [
    "a = np.array([True, False, True])\n",
    "b = np.array([False, True, True])\n",
    "\n",
    "print(np.logical_and(a, b))\n",
    "print(np.logical_or(a, b))\n",
    "print(a & b)   # Bitwise and\n",
    "print(a | b)   # Bitwise or\n",
    "\n",
    "\n",
    "A = np.array([[1, 2], [3, 4]])\n",
    "\n",
    "print(np.linalg.inv(A))         # Inverse\n",
    "print(np.linalg.pinv(A))        # Pseudo-inverse\n",
    "print(np.linalg.matrix_rank(A)) # Rank\n",
    "\n",
    "b = np.array([1, 2])\n",
    "print(np.linalg.solve(A, b))    # Solve Ax = b\n",
    "\n"
   ]
  },
  {
   "cell_type": "code",
   "execution_count": 61,
   "metadata": {},
   "outputs": [
    {
     "name": "stdout",
     "output_type": "stream",
     "text": [
      "[10.+0.j -2.+2.j -2.+0.j -2.-2.j]\n",
      "[ 2.5+0.j  -0.5-0.5j -0.5+0.j  -0.5+0.5j]\n",
      "[[3 1]\n",
      " [4 2]]\n",
      "[[1 3]\n",
      " [2 4]]\n",
      "[[3 1]\n",
      " [4 2]]\n",
      "[1 2 3]\n",
      "(1, 1, 3) (3,)\n"
     ]
    }
   ],
   "source": [
    "a = np.array([1, 2, 3, 4])\n",
    "print(np.fft.fft(a))   # Fourier transform\n",
    "print(np.fft.ifft(a))  # Inverse FFT\n",
    "\n",
    "a = np.array([[3, 1], [4, 2]])\n",
    "\n",
    "print(np.sort(a, axis=0))  # Sort columns\n",
    "print(np.sort(a, axis=1))  # Sort rows\n",
    "\n",
    "I = np.argsort(a[:, 0])    # Sort by first column\n",
    "b = a[I, :]\n",
    "print(b)\n",
    "\n",
    "a = np.array([[1, 1, 2], [2, 3, 3]])\n",
    "print(np.unique(a))     # Unique values\n",
    "\n",
    "b = np.array([[[1, 2, 3]]])\n",
    "print(b.shape, b.squeeze().shape)  # Remove single-dimension axes\n"
   ]
  },
  {
   "cell_type": "code",
   "execution_count": 63,
   "metadata": {},
   "outputs": [
    {
     "data": {
      "image/png": "[encoded data removed]",
      "text/plain": [
       "<Figure size 640x480 with 1 Axes>"
      ]
     },
     "metadata": {},
     "output_type": "display_data"
    }
   ],
   "source": [
    "#Task 3\n",
    "\n",
    "import matplotlib.pyplot as plt \n",
    "plt.plot([1,2,3,4],[1,2,7,14])\n",
    "plt.axis([0,6,0,20])\n",
    "plt.show()"
   ]
  },
  {
   "cell_type": "code",
   "execution_count": null,
   "metadata": {},
   "outputs": [],
   "source": [
    "#task 5 \n",
    "#GitHub: chenyun0607\n",
    "#URL: https://github.com/chenyun0607\n"
   ]
  },
  {
   "cell_type": "code",
   "execution_count": null,
   "metadata": {},
   "outputs": [],
   "source": [
    "#Task 6 \n",
    "\n",
    "#URL: https://github.com/chenyun0607/576-Deep-Learning.git"
   ]
  }
 ],
 "metadata": {
  "kernelspec": {
   "display_name": "Python (.venv)",
   "language": "python",
   "name": ".venv"
  },
  "language_info": {
   "name": "python",
   "version": "3.12.7"
  }
 },
 "nbformat": 4,
 "nbformat_minor": 2
}
